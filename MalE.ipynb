{
 "cells": [
  {
   "cell_type": "markdown",
   "metadata": {},
   "source": [
    "<h1>MalE</h1>\n",
    "<a id='Table of Contents'></a><h3>Table of Contents</h3>  \n",
    "\n",
    "<a href='#Syntax'>HTML and MARKDOWN SYNTAX EXAMPLES</a>  \n",
    "<a href='#Goal'>Goal</a>  \n",
    "<a href='#People'>People</a>  \n",
    "\n",
    "<a id='meetings'></a><b>Meetings</b>  \n",
    "<a href='#meetings.20190124'>January 24, 2019 -  Readying the upcoming NSE experiments</a>  "
   ]
  },
  {
   "cell_type": "markdown",
   "metadata": {},
   "source": [
    "(<a href='#Table of Contents'>Top</a>)<a id='Syntax'></a><h3>Syntax Examples</h3>\n",
    "local link: [link](files/link)</br>\n",
    "remote link: <a href=\"http://ambermd.org/\">http://ambermd.org</a>\n",
    "<font face=\"courier new\"> font face=\"courier new\" </font><br/>\n",
    "$$S_{model}(Q,E)=A(Q)\\cdot S_{elastic}(E) + B(Q)\\cdot S_{simulation}(Q,E)\\otimes S_{elastic}(E) + C(Q)+D(Q)\\cdot E$$\n",
    "<pre> Quoted text </pre>\n",
    "<center><table><tr>\n",
    "<td><center><a href=\"files/image.png\"><img src=\"files/image.png\" width=\"300\" height=\"250\" alt=\"image here\"></a> <br/><i>image caption</i></center></td>\n",
    "<td><center>some text</center></td>\n",
    "</tr></table></center>"
   ]
  },
  {
   "cell_type": "markdown",
   "metadata": {},
   "source": [
    "(<a href='#Table of Contents'>Top</a>)<a id='Goal'></a><h3>Goal</h3>\n",
    "Compare simulated and measured dynamics using NSE experiments and MD simulations"
   ]
  },
  {
   "cell_type": "markdown",
   "metadata": {},
   "source": [
    "(<a href='#Table of Contents'>Top</a>)<a id='People'></a><h3>People</h3>\n",
    "- Shantanu Shukla \n",
    "- Laura R. Stingaciu\n",
    "- Christopher Stanley\n",
    "- Matt Cunneo\n",
    "- Pratul Agarwal\n",
    "- "
   ]
  },
  {
   "cell_type": "markdown",
   "metadata": {},
   "source": [
    "(<a href='#meetings'>Top</a>)<a id='meetings.20190124'></a><h3>January 24, 2019 -  Readying the upcoming NSE experiments</h3>\n",
    "\n",
    "- NSE experiments starting on January 31st.\n",
    "- Samples are three buffer samples and four buffers+proteins samples. Some of the buffer samples contains the free ligand, the intent is to find out whether there is any coherent signal from the free ligand.\n",
    "- NSE Q-range = [0.04, 0.3], or L-range = [21, 157] Angstroms\n",
    "- My task will be to provide the necessary code to calculate coherent scattering functions from the MD simulations."
   ]
  },
  {
   "cell_type": "code",
   "execution_count": null,
   "metadata": {},
   "outputs": [],
   "source": []
  }
 ],
 "metadata": {
  "kernelspec": {
   "display_name": "Python 3",
   "language": "python",
   "name": "python3"
  },
  "language_info": {
   "codemirror_mode": {
    "name": "ipython",
    "version": 3
   },
   "file_extension": ".py",
   "mimetype": "text/x-python",
   "name": "python",
   "nbconvert_exporter": "python",
   "pygments_lexer": "ipython3",
   "version": "3.6.7"
  }
 },
 "nbformat": 4,
 "nbformat_minor": 2
}
